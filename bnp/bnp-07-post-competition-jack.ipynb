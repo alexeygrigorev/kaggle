{
 "cells": [
  {
   "cell_type": "markdown",
   "metadata": {},
   "source": [
    "Attempt to reproduce https://www.kaggle.com/rsakata/bnp-paribas-cardif-claims-management/xgboost-with-combination-of-factors/code and translate it to python"
   ]
  },
  {
   "cell_type": "code",
   "execution_count": 1,
   "metadata": {
    "collapsed": true
   },
   "outputs": [],
   "source": [
    "from collections import Counter\n",
    "from itertools import combinations\n",
    "\n",
    "import pandas as pd\n",
    "import numpy as np\n",
    "\n",
    "from natsort import natsorted\n",
    "from tqdm import tqdm"
   ]
  },
  {
   "cell_type": "code",
   "execution_count": 2,
   "metadata": {
    "collapsed": false
   },
   "outputs": [],
   "source": [
    "from sklearn.preprocessing import LabelEncoder\n",
    "from sklearn.cross_validation import StratifiedShuffleSplit, StratifiedKFold\n",
    "from sklearn.ensemble import ExtraTreesClassifier\n",
    "from sklearn.metrics import log_loss\n",
    "\n",
    "import xgboost as xgb"
   ]
  },
  {
   "cell_type": "code",
   "execution_count": 3,
   "metadata": {
    "collapsed": false
   },
   "outputs": [],
   "source": [
    "df_train = pd.read_csv(\"../input/train.csv\")\n",
    "df_train['source'] = 'TRAIN'\n",
    "\n",
    "cv = StratifiedShuffleSplit(df_train.target, n_iter=1, test_size=0.10, random_state=1)\n",
    "_, validation = next(cv.__iter__())\n",
    "df_train.loc[validation, 'source'] = 'VAL'\n",
    "\n",
    "df_test = pd.read_csv(\"../input/test.csv\")\n",
    "df_test['source'] = 'TEST'\n",
    "test_id = df_test.ID\n",
    "\n",
    "df_all = pd.concat((df_train, df_test), axis=0, ignore_index=1)\n",
    "df_all = df_all[['ID', 'target', 'source', \n",
    "                 'v10', 'v12', 'v14', 'v21', 'v22', 'v24', 'v30', 'v31', 'v34', \n",
    "                 'v38', 'v40', 'v47', 'v50', 'v52', 'v56', 'v62', 'v66', 'v72', 'v75', \n",
    "                 'v79', 'v91', 'v112', 'v113', 'v114', 'v129']]\n",
    "del df_train, df_test"
   ]
  },
  {
   "cell_type": "code",
   "execution_count": 4,
   "metadata": {
    "collapsed": true
   },
   "outputs": [],
   "source": [
    "all_columns = natsorted(set(df_all.columns) - {'ID', 'target', 'source'})\n",
    "\n",
    "categorical = [col for col in all_columns if df_all[col].dtype == 'O']\n",
    "numerical   = [col for col in all_columns if df_all[col].dtype != 'O']"
   ]
  },
  {
   "cell_type": "code",
   "execution_count": 5,
   "metadata": {
    "collapsed": false
   },
   "outputs": [
    {
     "name": "stderr",
     "output_type": "stream",
     "text": []
    }
   ],
   "source": [
    "combination_featuers = []\n",
    "\n",
    "combs = list(combinations(categorical, 2))\n",
    "for v1, v2 in tqdm(combs):\n",
    "    name = '%s_%s' % (v1, v2)\n",
    "    df_all[name] = \\\n",
    "            df_all[v1].fillna('*') + '_' + df_all[v2].fillna('*')\n",
    "    combination_featuers.append(name)\n",
    "\n",
    "combs = list(combinations(set(categorical) - {'v22'}, 2))\n",
    "for v1, v2 in tqdm(combs):\n",
    "    name = 'v22_%s_%s' % (v1, v2)\n",
    "    df_all[name] = \\\n",
    "            df_all['v22'].fillna('*') + '_' + df_all[v1].fillna('*') + '_' + df_all[v2].fillna('*')\n",
    "    combination_featuers.append(name)\n",
    "\n",
    "combs = list(combinations(set(categorical) - {'v22'}, len(categorical) - 3))\n",
    "for f_10 in tqdm(combs):\n",
    "    f_10 = list(f_10)\n",
    "    name = 'v22_' + '_'.join(f_10)\n",
    "    df_all[name] = df_all[['v22'] + f_10].fillna('').sum(axis=1)\n",
    "    combination_featuers.append(name)"
   ]
  },
  {
   "cell_type": "code",
   "execution_count": 6,
   "metadata": {
    "collapsed": false
   },
   "outputs": [],
   "source": [
    "df_all.loc[:, categorical] = df_all.loc[:, categorical].fillna('')"
   ]
  },
  {
   "cell_type": "code",
   "execution_count": 7,
   "metadata": {
    "collapsed": true
   },
   "outputs": [],
   "source": [
    "def target_mean(data, columns, train_mask=None, inplace=False, target_column='target', id_column='ID',\n",
    "               verbose=True):\n",
    "    if train_mask is None:\n",
    "        train_mask = data.source == 'TRAIN'\n",
    "\n",
    "    df_train = data[train_mask]\n",
    "    df_test  = data[~train_mask]\n",
    "    y = df_train[target_column]\n",
    "\n",
    "    if inplace:\n",
    "        result = data\n",
    "    else:\n",
    "        result = pd.DataFrame({id_column: data[id_column]})\n",
    "\n",
    "    cv = StratifiedKFold(y, n_folds=4, shuffle=True, random_state=100)\n",
    "\n",
    "    for col in columns:\n",
    "        if verbose:\n",
    "            print 'processing %s...' % col\n",
    "\n",
    "        col_result = np.zeros(len(df_train))\n",
    "\n",
    "        for train, test in cv:\n",
    "            means = pd.groupby(y.iloc[train], by=df_train.iloc[train][col]).mean().to_dict()\n",
    "            col_result[test] = df_train.iloc[test][col].apply(means.get).values\n",
    "    \n",
    "        result.loc[train_mask, col] = col_result\n",
    "\n",
    "        means = pd.groupby(y, by=df_train[col]).mean().to_dict()\n",
    "        result.loc[~train_mask, col] = result.loc[~train_mask, col].apply(means.get).values\n",
    "\n",
    "    if not inplace:\n",
    "        return result"
   ]
  },
  {
   "cell_type": "code",
   "execution_count": 8,
   "metadata": {
    "collapsed": false,
    "scrolled": true
   },
   "outputs": [
    {
     "name": "stdout",
     "output_type": "stream",
     "text": [
      "processing v22...\n",
      "processing v24...\n",
      "processing v30...\n",
      "processing v31...\n",
      "processing v47...\n",
      "processing v52...\n",
      "processing v56...\n",
      "processing v66...\n",
      "processing v75...\n",
      "processing v79...\n",
      "processing v91...\n",
      "processing v112...\n",
      "processing v113...\n",
      "processing v22_v24...\n",
      "processing v22_v30...\n",
      "processing v22_v31...\n",
      "processing v22_v47...\n",
      "processing v22_v52...\n",
      "processing v22_v56...\n",
      "processing v22_v66...\n",
      "processing v22_v75...\n",
      "processing v22_v79...\n",
      "processing v22_v91...\n",
      "processing v22_v112...\n",
      "processing v22_v113...\n",
      "processing v24_v30...\n",
      "processing v24_v31...\n",
      "processing v24_v47...\n",
      "processing v24_v52...\n",
      "processing v24_v56...\n",
      "processing v24_v66...\n",
      "processing v24_v75...\n",
      "processing v24_v79...\n",
      "processing v24_v91...\n",
      "processing v24_v112...\n",
      "processing v24_v113...\n",
      "processing v30_v31...\n",
      "processing v30_v47...\n",
      "processing v30_v52...\n",
      "processing v30_v56...\n",
      "processing v30_v66...\n",
      "processing v30_v75...\n",
      "processing v30_v79...\n",
      "processing v30_v91...\n",
      "processing v30_v112...\n",
      "processing v30_v113...\n",
      "processing v31_v47...\n",
      "processing v31_v52...\n",
      "processing v31_v56...\n",
      "processing v31_v66...\n",
      "processing v31_v75...\n",
      "processing v31_v79...\n",
      "processing v31_v91...\n",
      "processing v31_v112...\n",
      "processing v31_v113...\n",
      "processing v47_v52...\n",
      "processing v47_v56...\n",
      "processing v47_v66...\n",
      "processing v47_v75...\n",
      "processing v47_v79...\n",
      "processing v47_v91...\n",
      "processing v47_v112...\n",
      "processing v47_v113...\n",
      "processing v52_v56...\n",
      "processing v52_v66...\n",
      "processing v52_v75...\n",
      "processing v52_v79...\n",
      "processing v52_v91...\n",
      "processing v52_v112...\n",
      "processing v52_v113...\n",
      "processing v56_v66...\n",
      "processing v56_v75...\n",
      "processing v56_v79...\n",
      "processing v56_v91...\n",
      "processing v56_v112...\n",
      "processing v56_v113...\n",
      "processing v66_v75...\n",
      "processing v66_v79...\n",
      "processing v66_v91...\n",
      "processing v66_v112...\n",
      "processing v66_v113...\n",
      "processing v75_v79...\n",
      "processing v75_v91...\n",
      "processing v75_v112...\n",
      "processing v75_v113...\n",
      "processing v79_v91...\n",
      "processing v79_v112...\n",
      "processing v79_v113...\n",
      "processing v91_v112...\n",
      "processing v91_v113...\n",
      "processing v112_v113...\n",
      "processing v22_v30_v31...\n",
      "processing v22_v30_v91...\n",
      "processing v22_v30_v79...\n",
      "processing v22_v30_v24...\n",
      "processing v22_v30_v66...\n",
      "processing v22_v30_v112...\n",
      "processing v22_v30_v113...\n",
      "processing v22_v30_v56...\n",
      "processing v22_v30_v52...\n",
      "processing v22_v30_v47...\n",
      "processing v22_v30_v75...\n",
      "processing v22_v31_v91...\n",
      "processing v22_v31_v79...\n",
      "processing v22_v31_v24...\n",
      "processing v22_v31_v66...\n",
      "processing v22_v31_v112...\n",
      "processing v22_v31_v113...\n",
      "processing v22_v31_v56...\n",
      "processing v22_v31_v52...\n",
      "processing v22_v31_v47...\n",
      "processing v22_v31_v75...\n",
      "processing v22_v91_v79...\n",
      "processing v22_v91_v24...\n",
      "processing v22_v91_v66...\n",
      "processing v22_v91_v112...\n",
      "processing v22_v91_v113...\n",
      "processing v22_v91_v56...\n",
      "processing v22_v91_v52...\n",
      "processing v22_v91_v47...\n",
      "processing v22_v91_v75...\n",
      "processing v22_v79_v24...\n",
      "processing v22_v79_v66...\n",
      "processing v22_v79_v112...\n",
      "processing v22_v79_v113...\n",
      "processing v22_v79_v56...\n",
      "processing v22_v79_v52...\n",
      "processing v22_v79_v47...\n",
      "processing v22_v79_v75...\n",
      "processing v22_v24_v66...\n",
      "processing v22_v24_v112...\n",
      "processing v22_v24_v113...\n",
      "processing v22_v24_v56...\n",
      "processing v22_v24_v52...\n",
      "processing v22_v24_v47...\n",
      "processing v22_v24_v75...\n",
      "processing v22_v66_v112...\n",
      "processing v22_v66_v113...\n",
      "processing v22_v66_v56...\n",
      "processing v22_v66_v52...\n",
      "processing v22_v66_v47...\n",
      "processing v22_v66_v75...\n",
      "processing v22_v112_v113...\n",
      "processing v22_v112_v56...\n",
      "processing v22_v112_v52...\n",
      "processing v22_v112_v47...\n",
      "processing v22_v112_v75...\n",
      "processing v22_v113_v56...\n",
      "processing v22_v113_v52...\n",
      "processing v22_v113_v47...\n",
      "processing v22_v113_v75...\n",
      "processing v22_v56_v52...\n",
      "processing v22_v56_v47...\n",
      "processing v22_v56_v75...\n",
      "processing v22_v52_v47...\n",
      "processing v22_v52_v75...\n",
      "processing v22_v47_v75...\n",
      "processing v22_v30_v31_v91_v79_v24_v66_v112_v113_v56_v52...\n",
      "processing v22_v30_v31_v91_v79_v24_v66_v112_v113_v56_v47...\n",
      "processing v22_v30_v31_v91_v79_v24_v66_v112_v113_v56_v75...\n",
      "processing v22_v30_v31_v91_v79_v24_v66_v112_v113_v52_v47...\n",
      "processing v22_v30_v31_v91_v79_v24_v66_v112_v113_v52_v75...\n",
      "processing v22_v30_v31_v91_v79_v24_v66_v112_v113_v47_v75...\n",
      "processing v22_v30_v31_v91_v79_v24_v66_v112_v56_v52_v47...\n",
      "processing v22_v30_v31_v91_v79_v24_v66_v112_v56_v52_v75...\n",
      "processing v22_v30_v31_v91_v79_v24_v66_v112_v56_v47_v75...\n",
      "processing v22_v30_v31_v91_v79_v24_v66_v112_v52_v47_v75...\n",
      "processing v22_v30_v31_v91_v79_v24_v66_v113_v56_v52_v47...\n",
      "processing v22_v30_v31_v91_v79_v24_v66_v113_v56_v52_v75...\n",
      "processing v22_v30_v31_v91_v79_v24_v66_v113_v56_v47_v75...\n",
      "processing v22_v30_v31_v91_v79_v24_v66_v113_v52_v47_v75...\n",
      "processing v22_v30_v31_v91_v79_v24_v66_v56_v52_v47_v75...\n",
      "processing v22_v30_v31_v91_v79_v24_v112_v113_v56_v52_v47...\n",
      "processing v22_v30_v31_v91_v79_v24_v112_v113_v56_v52_v75...\n",
      "processing v22_v30_v31_v91_v79_v24_v112_v113_v56_v47_v75...\n",
      "processing v22_v30_v31_v91_v79_v24_v112_v113_v52_v47_v75...\n",
      "processing v22_v30_v31_v91_v79_v24_v112_v56_v52_v47_v75...\n",
      "processing v22_v30_v31_v91_v79_v24_v113_v56_v52_v47_v75...\n",
      "processing v22_v30_v31_v91_v79_v66_v112_v113_v56_v52_v47...\n",
      "processing v22_v30_v31_v91_v79_v66_v112_v113_v56_v52_v75...\n",
      "processing v22_v30_v31_v91_v79_v66_v112_v113_v56_v47_v75...\n",
      "processing v22_v30_v31_v91_v79_v66_v112_v113_v52_v47_v75...\n",
      "processing v22_v30_v31_v91_v79_v66_v112_v56_v52_v47_v75...\n",
      "processing v22_v30_v31_v91_v79_v66_v113_v56_v52_v47_v75...\n",
      "processing v22_v30_v31_v91_v79_v112_v113_v56_v52_v47_v75...\n",
      "processing v22_v30_v31_v91_v24_v66_v112_v113_v56_v52_v47...\n",
      "processing v22_v30_v31_v91_v24_v66_v112_v113_v56_v52_v75...\n",
      "processing v22_v30_v31_v91_v24_v66_v112_v113_v56_v47_v75...\n",
      "processing v22_v30_v31_v91_v24_v66_v112_v113_v52_v47_v75...\n",
      "processing v22_v30_v31_v91_v24_v66_v112_v56_v52_v47_v75...\n",
      "processing v22_v30_v31_v91_v24_v66_v113_v56_v52_v47_v75...\n",
      "processing v22_v30_v31_v91_v24_v112_v113_v56_v52_v47_v75...\n",
      "processing v22_v30_v31_v91_v66_v112_v113_v56_v52_v47_v75...\n",
      "processing v22_v30_v31_v79_v24_v66_v112_v113_v56_v52_v47...\n",
      "processing v22_v30_v31_v79_v24_v66_v112_v113_v56_v52_v75...\n",
      "processing v22_v30_v31_v79_v24_v66_v112_v113_v56_v47_v75...\n",
      "processing v22_v30_v31_v79_v24_v66_v112_v113_v52_v47_v75...\n",
      "processing v22_v30_v31_v79_v24_v66_v112_v56_v52_v47_v75...\n",
      "processing v22_v30_v31_v79_v24_v66_v113_v56_v52_v47_v75...\n",
      "processing v22_v30_v31_v79_v24_v112_v113_v56_v52_v47_v75...\n",
      "processing v22_v30_v31_v79_v66_v112_v113_v56_v52_v47_v75...\n",
      "processing v22_v30_v31_v24_v66_v112_v113_v56_v52_v47_v75...\n",
      "processing v22_v30_v91_v79_v24_v66_v112_v113_v56_v52_v47...\n",
      "processing v22_v30_v91_v79_v24_v66_v112_v113_v56_v52_v75...\n",
      "processing v22_v30_v91_v79_v24_v66_v112_v113_v56_v47_v75...\n",
      "processing v22_v30_v91_v79_v24_v66_v112_v113_v52_v47_v75...\n",
      "processing v22_v30_v91_v79_v24_v66_v112_v56_v52_v47_v75...\n",
      "processing v22_v30_v91_v79_v24_v66_v113_v56_v52_v47_v75...\n",
      "processing v22_v30_v91_v79_v24_v112_v113_v56_v52_v47_v75...\n",
      "processing v22_v30_v91_v79_v66_v112_v113_v56_v52_v47_v75...\n",
      "processing v22_v30_v91_v24_v66_v112_v113_v56_v52_v47_v75...\n",
      "processing v22_v30_v79_v24_v66_v112_v113_v56_v52_v47_v75...\n",
      "processing v22_v31_v91_v79_v24_v66_v112_v113_v56_v52_v47...\n",
      "processing v22_v31_v91_v79_v24_v66_v112_v113_v56_v52_v75...\n",
      "processing v22_v31_v91_v79_v24_v66_v112_v113_v56_v47_v75...\n",
      "processing v22_v31_v91_v79_v24_v66_v112_v113_v52_v47_v75...\n",
      "processing v22_v31_v91_v79_v24_v66_v112_v56_v52_v47_v75...\n",
      "processing v22_v31_v91_v79_v24_v66_v113_v56_v52_v47_v75...\n",
      "processing v22_v31_v91_v79_v24_v112_v113_v56_v52_v47_v75...\n",
      "processing v22_v31_v91_v79_v66_v112_v113_v56_v52_v47_v75...\n",
      "processing v22_v31_v91_v24_v66_v112_v113_v56_v52_v47_v75...\n",
      "processing v22_v31_v79_v24_v66_v112_v113_v56_v52_v47_v75...\n",
      "processing v22_v91_v79_v24_v66_v112_v113_v56_v52_v47_v75...\n"
     ]
    }
   ],
   "source": [
    "target_mean(df_all, categorical + combination_featuers, train_mask=(df_all.source == 'TRAIN'), inplace=1)"
   ]
  },
  {
   "cell_type": "code",
   "execution_count": 9,
   "metadata": {
    "collapsed": false
   },
   "outputs": [],
   "source": [
    "features = numerical + categorical + combination_featuers\n",
    "\n",
    "X = df_all.loc[df_all.source == 'TRAIN', features].values\n",
    "y = df_all.target[df_all.source == 'TRAIN'].values\n",
    "\n",
    "X_val = df_all.loc[df_all.source == 'VAL', features].values\n",
    "y_val = df_all.target[df_all.source == 'VAL'].values\n",
    "\n",
    "X_test = df_all.loc[df_all.source == 'TEST', features].values"
   ]
  },
  {
   "cell_type": "code",
   "execution_count": 10,
   "metadata": {
    "collapsed": false
   },
   "outputs": [
    {
     "data": {
      "text/plain": [
       "(102888, 235)"
      ]
     },
     "execution_count": 10,
     "metadata": {},
     "output_type": "execute_result"
    }
   ],
   "source": [
    "X.shape"
   ]
  },
  {
   "cell_type": "markdown",
   "metadata": {},
   "source": [
    "## XGB"
   ]
  },
  {
   "cell_type": "code",
   "execution_count": 11,
   "metadata": {
    "collapsed": false,
    "scrolled": true
   },
   "outputs": [],
   "source": [
    "dtrain = xgb.DMatrix(X, label=y, feature_names=features, missing=np.nan)\n",
    "dvalid = xgb.DMatrix(X_val, label=y_val, feature_names=features, missing=np.nan)\n",
    "watchlist = [(dtrain, 'train'), (dvalid, 'eval')]"
   ]
  },
  {
   "cell_type": "code",
   "execution_count": 14,
   "metadata": {
    "collapsed": true
   },
   "outputs": [],
   "source": [
    "results = []"
   ]
  },
  {
   "cell_type": "code",
   "execution_count": 15,
   "metadata": {
    "collapsed": false
   },
   "outputs": [],
   "source": [
    "metric = 'logloss'\n",
    "early_stopping_rounds = 50\n",
    "n_estimators = 1500\n",
    "\n",
    "xgb_pars = {\n",
    "    #'estimators': 1140\n",
    "    'eta': 0.05, \n",
    "    'max_depth': 6,\n",
    "    'colsample_bytree': 0.45,\n",
    "    'objective': 'binary:logistic', \n",
    "    'eval_metric': 'logloss',\n",
    "    'nthread': 8,\n",
    "    'seed': 42\n",
    "}"
   ]
  },
  {
   "cell_type": "code",
   "execution_count": 16,
   "metadata": {
    "collapsed": false,
    "scrolled": true
   },
   "outputs": [
    {
     "name": "stdout",
     "output_type": "stream",
     "text": [
      "Will train until eval error hasn't decreased in 50 rounds.\n",
      "[0]\ttrain-logloss:0.674656\teval-logloss:0.674524\n",
      "[25]\ttrain-logloss:0.484674\teval-logloss:0.484398\n",
      "[50]\ttrain-logloss:0.448620\teval-logloss:0.451338\n",
      "[75]\ttrain-logloss:0.436006\teval-logloss:0.442476\n",
      "[100]\ttrain-logloss:0.428403\teval-logloss:0.439326\n",
      "[125]\ttrain-logloss:0.423133\teval-logloss:0.437739\n",
      "[150]\ttrain-logloss:0.418449\teval-logloss:0.436589\n",
      "[175]\ttrain-logloss:0.414488\teval-logloss:0.435872\n",
      "[200]\ttrain-logloss:0.410202\teval-logloss:0.435557\n",
      "[225]\ttrain-logloss:0.406535\teval-logloss:0.435370\n",
      "[250]\ttrain-logloss:0.403134\teval-logloss:0.435210\n",
      "[275]\ttrain-logloss:0.400382\teval-logloss:0.435022\n",
      "[300]\ttrain-logloss:0.396688\teval-logloss:0.434940\n",
      "[325]\ttrain-logloss:0.394130\teval-logloss:0.434873\n",
      "[350]\ttrain-logloss:0.391053\teval-logloss:0.435014\n",
      "Stopping. Best iteration:\n",
      "[320]\ttrain-logloss:0.394449\teval-logloss:0.434849\n",
      "\n"
     ]
    }
   ],
   "source": [
    "xgb_model = xgb.train(xgb_pars, dtrain, num_boost_round=n_estimators, evals=watchlist, verbose_eval=25,\n",
    "                      early_stopping_rounds=early_stopping_rounds)"
   ]
  },
  {
   "cell_type": "code",
   "execution_count": 18,
   "metadata": {
    "collapsed": true
   },
   "outputs": [],
   "source": [
    "X_test = df_all.loc[df_all.source == 'TEST', features].values\n",
    "dtest = xgb.DMatrix(X_test, feature_names=features, missing=np.nan)\n",
    "y_score = xgb_model.predict(dtest, ntree_limit=320)"
   ]
  },
  {
   "cell_type": "code",
   "execution_count": 19,
   "metadata": {
    "collapsed": false
   },
   "outputs": [],
   "source": [
    "result = pd.DataFrame({'ID': test_id, 'PredictedProb': y_score})\n",
    "result.to_csv('xgb.csv', index=False)"
   ]
  },
  {
   "cell_type": "markdown",
   "metadata": {},
   "source": [
    "Private leaderboard score: 0.43583"
   ]
  }
 ],
 "metadata": {
  "kernelspec": {
   "display_name": "Python 2",
   "language": "python",
   "name": "python2"
  },
  "language_info": {
   "codemirror_mode": {
    "name": "ipython",
    "version": 2
   },
   "file_extension": ".py",
   "mimetype": "text/x-python",
   "name": "python",
   "nbconvert_exporter": "python",
   "pygments_lexer": "ipython2",
   "version": "2.7.10"
  }
 },
 "nbformat": 4,
 "nbformat_minor": 0
}
